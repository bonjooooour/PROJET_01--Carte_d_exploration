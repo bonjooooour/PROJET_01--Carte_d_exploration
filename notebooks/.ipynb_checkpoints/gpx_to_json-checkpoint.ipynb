{
 "cells": [
  {
   "cell_type": "code",
   "execution_count": 7,
   "metadata": {},
   "outputs": [
    {
     "name": "stdout",
     "output_type": "stream",
     "text": [
      "✅ Conversion terminée : /Users/mgerenius/VScode Workspace/PROJET 01 - Carte d'exploration/data/strava_gtx_data/11936412584_converted.json\n"
     ]
    }
   ],
   "source": [
    "import os\n",
    "from gpx_converter import Converter\n",
    "\n",
    "# Définir le dossier contenant les fichiers\n",
    "data_folder = \"/Users/mgerenius/VScode Workspace/PROJET 01 - Carte d'exploration/data/strava_gtx_data\"\n",
    "\n",
    "# Demander à l'utilisateur le nom du fichier\n",
    "input_file = input(\"Nom du fichier .gpx à convertir : \").strip()\n",
    "\n",
    "# Construire les chemins complets\n",
    "input_path = os.path.join(data_folder, input_file)\n",
    "output_path = os.path.join(data_folder, os.path.splitext(input_file)[0] + \"_converted.json\")\n",
    "\n",
    "# Vérifier si le fichier d'entrée existe\n",
    "if not os.path.exists(input_path):\n",
    "    print(f\"❌ Erreur : Le fichier '{input_path}' n'existe pas.\")\n",
    "else:\n",
    "    # Vérifier si output_path est bien défini\n",
    "    if not output_path:\n",
    "        print(\"❌ Erreur : Le chemin du fichier de sortie est vide.\")\n",
    "    else:\n",
    "        # Convertir le fichier\n",
    "        Converter(input_file=input_path).gpx_to_json(output_file=output_path)\n",
    "        print(f\"✅ Conversion terminée : {output_path}\")"
   ]
  }
 ],
 "metadata": {
  "kernelspec": {
   "display_name": "Python 3",
   "language": "python",
   "name": "python3"
  },
  "language_info": {
   "codemirror_mode": {
    "name": "ipython",
    "version": 3
   },
   "file_extension": ".py",
   "mimetype": "text/x-python",
   "name": "python",
   "nbconvert_exporter": "python",
   "pygments_lexer": "ipython3",
   "version": "3.13.2"
  }
 },
 "nbformat": 4,
 "nbformat_minor": 2
}
