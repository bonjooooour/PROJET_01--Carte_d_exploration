{
 "cells": [
  {
   "cell_type": "code",
   "execution_count": null,
   "metadata": {},
   "outputs": [],
   "source": [
    "\"\"\"\n",
    "\n",
    "01_photos_metadata_to_csv.py \n",
    "\n",
    "- Collecte locale des métadonnées des photos de l'application Apple Photos \n",
    "- Pour les photos disposant de données de localisation, stockage [nom, date, longitude, latitude] dans un fichier CSV\n",
    "\n",
    "\"\"\"\n",
    "\n",
    "### Librairies ###\n",
    "import osxphotos\n",
    "import pandas as pd\n",
    "\n",
    "\n",
    "### Utilisation du module OSXPhotos ###\n",
    "\n",
    "# Charger la photothèque Photos\n",
    "photosdb = osxphotos.PhotosDB()\n",
    "# Récupérer une seule photo (par exemple, la plus récente)\n",
    "photos = photosdb.photos()\n",
    "\n",
    "\n",
    "### Passage en revue de toutes les photos ###\n",
    "\n",
    "count = 0   # Compteur\n",
    "data = []   # Création d'une liste où stocker les données valides\n",
    "\n",
    "for photo in photos:\n",
    "    count += 1\n",
    "    \n",
    "    # Sélection des éléments avec des données de positions\n",
    "    if photo.latitude is not None and photo.longitude is not None :\n",
    "        data.append(\n",
    "            {\n",
    "                \"nom\": photo.original_filename,\n",
    "                \"date\": str(photo.date).split(\" \")[0],  # Extraire uniquement la date (sans l'heure)\n",
    "                \"latitude\": round(photo.latitude, 5),   # Arrondir à 5 décimales\n",
    "                \"longitude\": round(photo.longitude, 5)\n",
    "            }\n",
    "        )\n",
    "\n",
    "\n",
    "### Création du dataframe pour stockage des données dans un CSV ###\n",
    "\n",
    "# Emplacement de sauvegarde & nom du fichier CSV\n",
    "csv_file_name = \"photos_metadata.csv\"\n",
    "output_folder = \"/Users/mgerenius/VScode Workspace/PROJET 01 - Carte d'exploration/data/CSV_files\"\n",
    "\n",
    "# Sauvegarde du dataframe dans un CSV\n",
    "df = pd.DataFrame(data)\n",
    "df.to_csv(output_folder + \"/\" + csv_file_name, index=False, encoding=\"utf-8\")\n",
    "print(f\"\\n{count} éléments passés en revue.\\n\")\n",
    "print(\"Fichier CSV généré avec succès !\")"
   ]
  }
 ],
 "metadata": {
  "kernelspec": {
   "display_name": "Python (venv)",
   "language": "python",
   "name": "venv"
  },
  "language_info": {
   "codemirror_mode": {
    "name": "ipython",
    "version": 3
   },
   "file_extension": ".py",
   "mimetype": "text/x-python",
   "name": "python",
   "nbconvert_exporter": "python",
   "pygments_lexer": "ipython3",
   "version": "3.13.2"
  }
 },
 "nbformat": 4,
 "nbformat_minor": 2
}
