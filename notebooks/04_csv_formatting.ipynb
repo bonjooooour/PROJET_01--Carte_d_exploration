{
 "cells": [
  {
   "cell_type": "code",
   "execution_count": 1,
   "metadata": {},
   "outputs": [
    {
     "name": "stdout",
     "output_type": "stream",
     "text": [
      "distance\n"
     ]
    }
   ],
   "source": [
    "\"\"\"\n",
    "FIT --> correct CSV\n",
    "\n",
    "Fonction pour formater les CSV après conversion .fit --> CSV\n",
    "\n",
    "Format de sortie :\n",
    "Nom, Date, Latitutde, Longitude\n",
    "\"\"\"\n",
    "\n",
    "import pandas as pd\n",
    "\n",
    "\n",
    "\n",
    "def csv_formating(csv_file):\n",
    "\n",
    "    df =  pd.read_csv(csv_file, nrows=0)\n",
    "    first_colomn_name = df.columns[0]\n",
    "    print(first_colomn_name)\n",
    "\n",
    "\n",
    "csv_file = \"/Users/mgerenius/VScode_Workspace/Projet_01 - Carte_d'exploration/data/CSV_files/10657680236.csv\"\n",
    "\n",
    "csv_formating(csv_file)"
   ]
  },
  {
   "cell_type": "code",
   "execution_count": null,
   "metadata": {},
   "outputs": [],
   "source": [
    "\"\"\"\n",
    "GPX --> correct CSV\n",
    "\n",
    "Fonction pour formater les CSV après conversion .gpx --> CSV\n",
    "\n",
    "Format de sortie :\n",
    "Nom, Date, Latitutde, Longitude\n",
    "\"\"\""
   ]
  }
 ],
 "metadata": {
  "kernelspec": {
   "display_name": ".venv",
   "language": "python",
   "name": "python3"
  },
  "language_info": {
   "codemirror_mode": {
    "name": "ipython",
    "version": 3
   },
   "file_extension": ".py",
   "mimetype": "text/x-python",
   "name": "python",
   "nbconvert_exporter": "python",
   "pygments_lexer": "ipython3",
   "version": "3.13.2"
  }
 },
 "nbformat": 4,
 "nbformat_minor": 2
}
